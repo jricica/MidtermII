{
 "cells": [
  {
   "cell_type": "markdown",
   "metadata": {},
   "source": [
    " ## Parcial II - Estructuras de Datos\n",
    "---\n",
    "\n",
    "-nombre-  \n",
    "-carnet-"
   ]
  },
  {
   "cell_type": "markdown",
   "metadata": {},
   "source": [
    "### **Instrucciones:**\n",
    "\n",
    "Desarrolle su parcial en este notebook según las indicaciones en las siguientes celdas. Trabaje de forma ordenada y asegúrese que el notebook corra exitosamente antes de entregarlo (`clear all outputs` -> `restart` kernel -> `run all`). De esta misma manera se calificará su parcial. Un notebook que presente problemas en el `run all` será considerado inválido."
   ]
  },
  {
   "cell_type": "markdown",
   "metadata": {},
   "source": [
    "#### **1 - Binary Search Tree**\n",
    "---\n",
    "\n",
    "1.1 - En el archivo `bst.py`, agregue la clase de BST desarrollada en clase. Asegúrese de incluir el método *pretty_print()*.\n",
    "\n",
    "1.2 - Instanciar un BST y agregar 25 elementos cualesquiera. Luego, demostrar que las operaciones de *insert()*, *delete()* y *search()* funcionan como esperado en un Binary Search Tree. Dejar constancia de cada una de estas operaciones con el método *pretty_print()*."
   ]
  },
  {
   "cell_type": "code",
   "execution_count": 17,
   "metadata": {},
   "outputs": [],
   "source": [
    "# Espacio para inciso 1.2 (utilizar cuantas celdas de código sean necesarias)"
   ]
  },
  {
   "cell_type": "markdown",
   "metadata": {},
   "source": [
    "#### **2 - AVL Tree**\n",
    "---\n",
    "\n",
    "2.1 - En el archivo `avl.py`, crear una clase que implemente un árbol AVL. Esta clase puede ser implementada desde cero o generada con AI. Considerar que:\n",
    "- La clase debe estar explícitamente declarada en el `avl.py`, ya que debe incluir el método de *pretty_print()*. Esto imposibilita el uso de alguna librería de python que contenga una implementación de AVL.\n",
    "- Si utiliza AI para generar la clase, debe documentar en este notebook el prompt utilizado, ya sea en las celdas correspondientes al inciso o en un apartado de Anexos.\n",
    "\n",
    "2.2 - Instanciar un AVL y agregar 25 elementos cualesquiera. Luego, demostrar que las operaciones de *insert()*, *delete()* y *search()* funcionan como esperado en un árbol AVL. Dejar constancia de cada una de estas operaciones con el método *pretty_print()*."
   ]
  },
  {
   "cell_type": "code",
   "execution_count": 18,
   "metadata": {},
   "outputs": [],
   "source": [
    "# Espacio para inciso 2.2 (utilizar cuantas celdas de código sean necesarias)"
   ]
  },
  {
   "cell_type": "markdown",
   "metadata": {},
   "source": [
    "#### **3 - Evaluación de Complejidad**\n",
    "---"
   ]
  },
  {
   "cell_type": "code",
   "execution_count": 19,
   "metadata": {},
   "outputs": [
    {
     "name": "stdout",
     "output_type": "stream",
     "text": [
      "Execution time: 0.0473243330 secs\n"
     ]
    }
   ],
   "source": [
    "import time\n",
    "\n",
    "def time_function(func, *args, **kwargs):\n",
    "    start_time = time.perf_counter()\n",
    "    result = func(*args, **kwargs)\n",
    "    end_time = time.perf_counter()\n",
    "    duration = end_time - start_time\n",
    "    print(f'Execution time: {duration:.10f} secs')\n",
    "    return result\n",
    "\n",
    "# Example usage:\n",
    "def sample_function(n):\n",
    "    # Sample function that calculates the sum of numbers from 0 to n-1\n",
    "    return sum(range(n))\n",
    "\n",
    "# Time the sample_function execution with argument 1000000\n",
    "result = time_function(sample_function, 1000000)\n",
    "\n",
    "# Ejemplo con clase de BST:\n",
    "# insert_time = time_function(tree.insert, 42)"
   ]
  },
  {
   "cell_type": "markdown",
   "metadata": {},
   "source": [
    "3.1.a - Instanciar un nuevo objeto **BST** e insertar **5K nodos**. Los valores de dichos nodos deben diseñarse con el objetivo de generar un árbol con la peor topología posible (desde la perspectiva de complejidad temporal).\n",
    "\n",
    "3.1.b - Instanciar un nuevo objeto **AVL** e insertar **5K nodos**. Agregar exactamente los valores utilizados en el inciso anterior."
   ]
  },
  {
   "cell_type": "code",
   "execution_count": 20,
   "metadata": {},
   "outputs": [],
   "source": [
    "# Espacio para inciso 3.1 (utilizar cuantas celdas de código sean necesarias)"
   ]
  },
  {
   "cell_type": "markdown",
   "metadata": {},
   "source": [
    "##### **Insert()**\n",
    "\n",
    "Al inicio del inciso *3* se encuentra la función `time_function` junto a un ejemplo de su uso. Esta función permite perfilar el **tiempo** en segundos que toma ejecutar una función y devuelve el resultado con una precisión de diez decimales. Utilice esta función para perfilar el tiempo en los siguientes incisos que lo requieran.\n",
    "\n",
    "3.2 - Diseñe una serie de 25 valores que al ser insertados en la estructura (BST o AVL) demanden el peor de los escenarios.\n",
    "\n",
    "3.3.a - Programáticamente, realice las 25 operaciones de insert en el BST creado en el inciso *3.1.a*, midiendo el tiempo de ejecución con la función proporcionada. Guarde los resultados en una lista. \n",
    "\n",
    "3.3.b - Programáticamente, realice las mismas 25 operaciones de insert en el AVL creado en el inciso *3.1.b*, midiendo el tiempo de ejecución con la función proporcionada. Guarde los resultados en una lista. \n",
    "\n",
    "3.4 - Utilizando los 25 tiempos registrados para el BST y AVL, calcule el promedio de *insert()* para cada tipo de árbol. Almacene estos dos valores ya que serán utilizados luego."
   ]
  },
  {
   "cell_type": "code",
   "execution_count": 21,
   "metadata": {},
   "outputs": [],
   "source": [
    "# Espacio para incisos 3.2 - 3.4 (utilizar cuantas celdas de código sean necesarias)"
   ]
  },
  {
   "cell_type": "markdown",
   "metadata": {},
   "source": [
    "##### **Search()**\n",
    "\n",
    "3.5 - Diseñe una serie de 25 valores que al ser buscados en la estructura (BST o AVL) demanden el peor de los escenarios (no exista).\n",
    "\n",
    "3.6.a - Programáticamente, realice las 25 operaciones de search en el BST creado en el inciso 3.1.a, midiendo el tiempo de ejecución con la función proporcionada. Guarde los resultados en una lista. \n",
    "\n",
    "3.6.b - Programáticamente, realice las mismas 25 operaciones de search en el AVL creado en el inciso 3.1.b, midiendo el tiempo de ejecución con la función proporcionada. Guarde los resultados en una lista. \n",
    "\n",
    "3.7 - Utilizando los 25 tiempos registrados para el BST y AVL, calcule el promedio de *search()* para cada tipo de árbol. Almacene estos dos valores ya que serán utilizados luego."
   ]
  },
  {
   "cell_type": "code",
   "execution_count": 22,
   "metadata": {},
   "outputs": [],
   "source": [
    "# Espacio para incisos 3.5 - 3.7 (utilizar cuantas celdas de código sean necesarias)"
   ]
  },
  {
   "cell_type": "markdown",
   "metadata": {},
   "source": [
    "##### **Otros valores de *N***\n",
    "\n",
    "3.8 - Repita los incisos del *3.1* al *3.7* con las siguientes cantidades de *n*:\n",
    "* 10K nodos\n",
    "* 25k nodos\n"
   ]
  },
  {
   "cell_type": "code",
   "execution_count": 23,
   "metadata": {},
   "outputs": [],
   "source": [
    "# Espacio para inciso 3.8 (utilizar cuantas celdas de código sean necesarias)"
   ]
  },
  {
   "cell_type": "markdown",
   "metadata": {},
   "source": [
    "#### **4 - Gráfica**\n",
    "---\n",
    "\n",
    "Una vez realizados todos los puntos del inciso *3* correctamente, debería tener la siguiente información basada en tiempos promedio tanto para el **BST** como para el **AVL**:\n",
    "\n",
    "|Operación | N = 5K   | N = 10K  | N = 25K  |\n",
    "|----------|----------|----------|----------|\n",
    "| Insert() | x secs   | x secs   | x secs   |\n",
    "| Search() | x secs   | x secs   | x secs   |\n",
    "\n",
    "Importante: recuerde mantener la precisión de diez decimales en los registros de tiempo.\n",
    "\n",
    "4.1 - Programáticamente unificar los resultados en el formato que necesite para una ejecución automática de los incisos siguientes.\n",
    "\n",
    "4.2 - Crear una gráfica que ilustre la complejidad de la operación de *Insert()* tanto para BST como para AVL. Considerar que:\n",
    "* Debe ser una única gráfica que superponga los resultados del BST y el AVL\n",
    "* Las funciones de complejidad resultantes deben identificar correctamente el tipo de árbol al que pertenece \n",
    "* Debe graficar las funciones de complejidad con un color distinto\n",
    "\n",
    "4.3 - Crear una gráfica que ilustre la complejidad de la operación de *Search()* tanto para BST como para AVL. Tener presente las mismas consideraciones que en el inciso *4.2*. \n",
    "\n",
    "Recuerde que el objetivo es evidenciar claramente que la complejidad de las estructuras corresponden a la teoría, o sea:\n",
    "* Binary Search Tree - $O(n)$\n",
    "* AVL Tree - $O(log_{2}n)$\n"
   ]
  },
  {
   "cell_type": "code",
   "execution_count": 24,
   "metadata": {},
   "outputs": [],
   "source": [
    "# Espacio para incisos 4.1 - 4.3 (utilizar cuantas celdas de código sean necesarias)"
   ]
  },
  {
   "cell_type": "markdown",
   "metadata": {},
   "source": [
    "---"
   ]
  }
 ],
 "metadata": {
  "kernelspec": {
   "display_name": "Python 3",
   "language": "python",
   "name": "python3"
  },
  "language_info": {
   "codemirror_mode": {
    "name": "ipython",
    "version": 3
   },
   "file_extension": ".py",
   "mimetype": "text/x-python",
   "name": "python",
   "nbconvert_exporter": "python",
   "pygments_lexer": "ipython3",
   "version": "3.9.6"
  }
 },
 "nbformat": 4,
 "nbformat_minor": 2
}
